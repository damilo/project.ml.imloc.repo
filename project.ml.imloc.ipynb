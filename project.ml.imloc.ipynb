{
 "cells": [
  {
   "cell_type": "markdown",
   "metadata": {},
   "source": [
    "# Classification & Localization of Objects in Images\n",
    "---"
   ]
  },
  {
   "cell_type": "markdown",
   "metadata": {},
   "source": [
    "## Project Overview\n",
    "introduction and problem statement"
   ]
  },
  {
   "cell_type": "markdown",
   "metadata": {},
   "source": [
    "## Data Exploration\n",
    "familiarize yourself with the data, helps you to better understand and justify your results\n",
    "\n",
    "statistics, visualizations"
   ]
  },
  {
   "cell_type": "markdown",
   "metadata": {},
   "source": [
    "### Dataset structure"
   ]
  },
  {
   "cell_type": "markdown",
   "metadata": {},
   "source": [
    "<pre>\n",
    "+-- dataset\\tiny-imagenet-200\n",
    "    |--- wnids.txt\n",
    "    |--- words.txt\n",
    "    |+-- test\n",
    "         |+-- images (10,000 files)\n",
    "              |--- test_0.JPEG\n",
    "              |--- ...\n",
    "              |--- test_9999.JPEG\n",
    "    |+-- train (200 directories)\n",
    "         |+-- n01443537\n",
    "              |+-- images (500 files)\n",
    "                   |--- n01443537_0.JPEG\n",
    "                   |--- ...\n",
    "                   |--- n01443537_499.JPEG\n",
    "              |--- n01443537_boxes.txt\n",
    "         |+-- ...\n",
    "         |+-- n12267677\n",
    "    |+-- val\n",
    "        |--- val_annotations.txt\n",
    "        |+-- images (10,000 files)\n",
    "             |--- val_0.JPEG\n",
    "             |--- ...\n",
    "             |--- val_9999.JPEG\n",
    "</pre>"
   ]
  },
  {
   "cell_type": "code",
   "execution_count": 1,
   "metadata": {},
   "outputs": [],
   "source": [
    "import os\n",
    "\n",
    "DS_PATH = os.path.join ('dataset', 'tiny-imagenet-200')\n",
    "DS_TRAIN_PATH = os.path.join (DS_PATH, 'train')\n",
    "DS_VAL_PATH = os.path.join (DS_PATH, 'val')\n",
    "DS_TEST_PATH = os.path.join (DS_PATH, 'test')"
   ]
  },
  {
   "cell_type": "markdown",
   "metadata": {},
   "source": [
    "### Example image"
   ]
  },
  {
   "cell_type": "code",
   "execution_count": 2,
   "metadata": {},
   "outputs": [
    {
     "name": "stdout",
     "output_type": "stream",
     "text": [
      "              image  box_x1  box_y1  box_x2  box_y2\n",
      "0  n01443537_0.JPEG       0      10      63      58\n"
     ]
    },
    {
     "data": {
      "image/png": "[encoded data removed]",
      "text/plain": [
       "<Figure size 432x288 with 1 Axes>"
      ]
     },
     "metadata": {
      "needs_background": "light"
     },
     "output_type": "display_data"
    }
   ],
   "source": [
    "# check out the properties of the images (only one picture)\n",
    "# display an image\n",
    "# annotations of train images\n",
    "import numpy as np\n",
    "import pandas as pd\n",
    "from skimage import io\n",
    "import matplotlib.pyplot as plt\n",
    "import matplotlib.patches as patches\n",
    "%matplotlib inline\n",
    "\n",
    "DS_TRAIN_IMAGE = os.path.join (DS_TRAIN_PATH, 'n01443537', 'images', 'n01443537_0.JPEG')\n",
    "train_img = io.imread (DS_TRAIN_IMAGE)\n",
    "\n",
    "DS_TRAIN_IMAGE_ANNOT = os.path.join (DS_TRAIN_PATH, 'n01443537', 'n01443537_boxes.txt')\n",
    "img_annot_df = pd.read_csv (DS_TRAIN_IMAGE_ANNOT, sep='\\t', header=None, names=['image', 'box_x1', 'box_y1', 'box_x2', 'box_y2'])\n",
    "print (img_annot_df.head (1))\n",
    "\n",
    "fig, axs = plt.subplots (1, 1)\n",
    "axs.set_ylabel ('height (y)')\n",
    "axs.set_xlabel ('width (x)')\n",
    "axs.imshow (train_img)\n",
    "rect = patches.Rectangle ((img_annot_df.iloc[0][1],img_annot_df.iloc[0][2]),\n",
    "                          (img_annot_df.iloc[0][3] - img_annot_df.iloc[0][1]),\n",
    "                          (img_annot_df.iloc[0][4] - img_annot_df.iloc[0][2]),\n",
    "                          linewidth=2,edgecolor='r',facecolor='none')\n",
    "axs.add_patch (rect)\n",
    "plt.show ()"
   ]
  },
  {
   "cell_type": "markdown",
   "metadata": {},
   "source": [
    "### wnid file (wnids.txt)\n",
    "holds all WordNet IDs of the dataset "
   ]
  },
  {
   "cell_type": "code",
   "execution_count": 3,
   "metadata": {},
   "outputs": [
    {
     "name": "stdout",
     "output_type": "stream",
     "text": [
      "<class 'pandas.core.frame.DataFrame'>\n",
      "RangeIndex: 200 entries, 0 to 199\n",
      "Data columns (total 1 columns):\n",
      "wnid    200 non-null object\n",
      "dtypes: object(1)\n",
      "memory usage: 1.6+ KB\n",
      "None\n",
      "             wnid\n",
      "count         200\n",
      "unique        200\n",
      "top     n02403003\n",
      "freq            1\n",
      "         wnid\n",
      "57  n02481823\n",
      "26  n03085013\n",
      "45  n03983396\n"
     ]
    }
   ],
   "source": [
    "# check out the wnid annotations\n",
    "import numpy as np\n",
    "import pandas as pd\n",
    "\n",
    "WNID_FILE = os.path.join (DS_PATH, 'wnids.txt')\n",
    "wnid_df = pd.read_csv (WNID_FILE, header=None, names=['wnid'])\n",
    "\n",
    "print (wnid_df.info ())\n",
    "print (wnid_df.describe ())\n",
    "print (wnid_df.sample (3))"
   ]
  },
  {
   "cell_type": "markdown",
   "metadata": {},
   "source": [
    "### words file (words.txt)\n",
    "holds all WordNet IDs and their description(s)"
   ]
  },
  {
   "cell_type": "code",
   "execution_count": 4,
   "metadata": {},
   "outputs": [
    {
     "name": "stdout",
     "output_type": "stream",
     "text": [
      "<class 'pandas.core.frame.DataFrame'>\n",
      "RangeIndex: 82115 entries, 0 to 82114\n",
      "Data columns (total 2 columns):\n",
      "wnid    82115 non-null object\n",
      "desc    82114 non-null object\n",
      "dtypes: object(2)\n",
      "memory usage: 1.3+ MB\n",
      "None\n",
      "             wnid   desc\n",
      "count       82115  82114\n",
      "unique      82115  76002\n",
      "top     n12758399   head\n",
      "freq            1     16\n",
      "            wnid                       desc\n",
      "8848   n01728266                 hoop snake\n",
      "1887   n00386164               parcellation\n",
      "77670  n14503060  atypicality, untypicality\n"
     ]
    }
   ],
   "source": [
    "import numpy as np\n",
    "import pandas as pd\n",
    "\n",
    "WNID_WORDS_FILE = os.path.join (DS_PATH, 'words.txt')\n",
    "wnid_words_df = pd.read_csv (WNID_WORDS_FILE, sep='\\t', header=None, names=['wnid', 'desc'])\n",
    "\n",
    "print (wnid_words_df.info ())\n",
    "print (wnid_words_df.describe ())\n",
    "print (wnid_words_df.sample (3))"
   ]
  },
  {
   "cell_type": "code",
   "execution_count": 5,
   "metadata": {},
   "outputs": [
    {
     "name": "stdout",
     "output_type": "stream",
     "text": [
      "n01443537 goldfish, Carassius auratus\n"
     ]
    }
   ],
   "source": [
    "# get the description of a wnid\n",
    "#wnid = wnid_df['wnid'].sample ().values[0]\n",
    "wnid = 'n01443537'\n",
    "wnid_desc = wnid_words_df[wnid_words_df['wnid'] == wnid]['desc'].values[0]\n",
    "\n",
    "print (wnid, wnid_desc)"
   ]
  },
  {
   "cell_type": "markdown",
   "metadata": {},
   "source": [
    "## Benchmark\n",
    "some other algorithm / software / result to compare this algorithm against (by using the defined metric)"
   ]
  },
  {
   "cell_type": "code",
   "execution_count": 6,
   "metadata": {},
   "outputs": [],
   "source": [
    "# random guess as benchmark for both classification and localization"
   ]
  },
  {
   "cell_type": "markdown",
   "metadata": {},
   "source": [
    "---"
   ]
  },
  {
   "cell_type": "code",
   "execution_count": 7,
   "metadata": {},
   "outputs": [],
   "source": [
    "# split project here into\n",
    "# - multiclass classification\n",
    "# - regression for localization"
   ]
  },
  {
   "cell_type": "markdown",
   "metadata": {},
   "source": [
    "## Task: Classification"
   ]
  },
  {
   "cell_type": "markdown",
   "metadata": {},
   "source": [
    "### Metric\n",
    "used metric for classification is categorial cross-entropy"
   ]
  },
  {
   "cell_type": "markdown",
   "metadata": {},
   "source": [
    "### Data Preprocessing"
   ]
  },
  {
   "cell_type": "markdown",
   "metadata": {},
   "source": [
    "__train data__\n",
    "<pre>\n",
    "+-- dataset\\tiny-imagenet-200\n",
    "    |+-- train (200 directories)\n",
    "         |+-- n01443537\n",
    "              |+-- images (500 files)\n",
    "                   |--- n01443537_0.JPEG\n",
    "                   |--- ...\n",
    "                   |--- n01443537_499.JPEG\n",
    "              |--- n01443537_boxes.txt\n",
    "         |+-- ...\n",
    "         |+-- n12267677\n",
    "</pre>"
   ]
  },
  {
   "cell_type": "code",
   "execution_count": 8,
   "metadata": {},
   "outputs": [
    {
     "name": "stdout",
     "output_type": "stream",
     "text": [
      "Now there are 200 keys (classes) in the dictionary, each holding 500 values (image paths).\n",
      "\n",
      "Example: key (class) = n02236044 , values (image paths) = ['dataset\\\\tiny-imagenet-200\\\\train\\\\n02236044\\\\images\\\\n02236044_0.JPEG', 'dataset\\\\tiny-imagenet-200\\\\train\\\\n02236044\\\\images\\\\n02236044_1.JPEG'] ... ['dataset\\\\tiny-imagenet-200\\\\train\\\\n02236044\\\\images\\\\n02236044_98.JPEG', 'dataset\\\\tiny-imagenet-200\\\\train\\\\n02236044\\\\images\\\\n02236044_99.JPEG']\n"
     ]
    }
   ],
   "source": [
    "# read in all images from training dataset\n",
    "from collections import defaultdict\n",
    "\n",
    "# get a list of all image class directories\n",
    "train_data = defaultdict (list)\n",
    "train_path_entries = os.listdir (DS_TRAIN_PATH)\n",
    "for i in range (len (train_path_entries)):\n",
    "    entry_i_imgs_p = DS_TRAIN_PATH + os.sep + train_path_entries[i] + os.sep + 'images'\n",
    "    \n",
    "    # add data as key-value pair for later use\n",
    "    k = train_path_entries[i]\n",
    "    v = [entry_i_imgs_p + os.sep + img for img in os.listdir (entry_i_imgs_p)]\n",
    "    train_data[k] = v\n",
    "\n",
    "print ('Now there are {} keys (classes) in the dictionary, each holding {} values (image paths).'\\\n",
    "       .format (len (train_data.keys ()), len (train_data[list (train_data.keys ())[0]])))\n",
    "print ()\n",
    "print ('Example:',\\\n",
    "       'key (class) =', list (train_data.keys ())[42],\\\n",
    "       ', values (image paths) =',\\\n",
    "       train_data[list (train_data.keys())[42]][:2], '...',\\\n",
    "       train_data[list (train_data.keys())[42]][-2:])"
   ]
  },
  {
   "cell_type": "markdown",
   "metadata": {},
   "source": [
    "CNN expects tensors in form (#, w, h, d) > read in images and create tensor per class.\n",
    "\n",
    "[!] mixed BW and RGB images"
   ]
  },
  {
   "cell_type": "code",
   "execution_count": 9,
   "metadata": {},
   "outputs": [],
   "source": [
    "import numpy as np\n",
    "from skimage.io import imread\n",
    "from skimage.color import gray2rgb\n",
    "\n",
    "def image_path_to_tensor (img_path_list):\n",
    "    img_list = []\n",
    "    for img_path in img_path_list:\n",
    "        img_arr = imread (img_path)\n",
    "        # check depth for BW image\n",
    "        if (len (img_arr.shape) < 3):\n",
    "            img_arr = gray2rgb (img_arr)\n",
    "        \n",
    "        img_arr = np.expand_dims (img_arr, axis=0)\n",
    "        img_list.append (img_arr)\n",
    "    \n",
    "    return np.vstack (img_list)\n",
    "    \n",
    "# unit test\n",
    "# (image_path_to_tensor (train_data[list (train_data.keys())[42]][:5])).shape"
   ]
  },
  {
   "cell_type": "code",
   "execution_count": 10,
   "metadata": {},
   "outputs": [
    {
     "name": "stdout",
     "output_type": "stream",
     "text": [
      "Reading images of wnid class n12267677, ( 200 /  200)\n",
      "\n",
      "Shape of train data tensor: (100000, 64, 64, 3)\n",
      "Shape of train data target vector: (100000,)\n"
     ]
    }
   ],
   "source": [
    "train_data_tensor_list = []\n",
    "train_data_targets_list = []\n",
    "i = 1\n",
    "for img_class, img_paths in train_data.items ():\n",
    "    #pass\n",
    "    # read images\n",
    "    print ('\\rReading images of wnid class {}, ({:4} / {:4})'.format (img_class, i, len (train_data.keys ())), end='', flush=True)\n",
    "    img_class_tensor = image_path_to_tensor (train_data[img_class])\n",
    "    # add images to train data tensor\n",
    "    train_data_tensor_list.append (img_class_tensor)\n",
    "    # write image class to target variable\n",
    "    train_data_targets_list.append ([img_class for x in range (len (train_data[img_class]))])\n",
    "    # blub\n",
    "    i += 1\n",
    "\n",
    "train_data_tensor = (np.vstack (train_data_tensor_list)).astype (dtype='f4', copy=False) / 255 # incl. normalization [0, 255] -> [0, 1]\n",
    "train_data_targets = np.hstack (train_data_targets_list)\n",
    "\n",
    "# clean up\n",
    "del train_data_tensor_list\n",
    "del train_data_targets_list\n",
    "del train_data\n",
    "\n",
    "print ('\\n')\n",
    "print ('Shape of train data tensor:', train_data_tensor.shape)\n",
    "print ('Shape of train data target vector:', train_data_targets.shape)"
   ]
  },
  {
   "cell_type": "markdown",
   "metadata": {},
   "source": [
    "__validation data__\n",
    "<pre>\n",
    "+-- dataset\\tiny-imagenet-200\n",
    "    |+-- val\n",
    "        |--- val_annotations.txt\n",
    "        |+-- images (10,000 files)\n",
    "             |--- val_0.JPEG\n",
    "             |--- ...\n",
    "             |--- val_9999.JPEG\n",
    "</pre>"
   ]
  },
  {
   "cell_type": "code",
   "execution_count": 11,
   "metadata": {},
   "outputs": [
    {
     "name": "stdout",
     "output_type": "stream",
     "text": [
      "Now there are 10000 values (image paths) in validation set.\n",
      "\n",
      "Example: key = val_imgs , values (image paths) = ['dataset\\\\tiny-imagenet-200\\\\val\\\\images\\\\val_0.JPEG', 'dataset\\\\tiny-imagenet-200\\\\val\\\\images\\\\val_1.JPEG'] ... ['dataset\\\\tiny-imagenet-200\\\\val\\\\images\\\\val_9998.JPEG', 'dataset\\\\tiny-imagenet-200\\\\val\\\\images\\\\val_9999.JPEG']\n"
     ]
    }
   ],
   "source": [
    "from collections import defaultdict\n",
    "import pandas as pd\n",
    "\n",
    "# get a list of all image class directories\n",
    "val_data = defaultdict (list)\n",
    "entry_i_imgs_p = DS_VAL_PATH + os.sep + 'images'\n",
    "k = 'val_imgs'\n",
    "v = [entry_i_imgs_p + os.sep + img for img in os.listdir (entry_i_imgs_p)]\n",
    "val_data[k] = v\n",
    "\n",
    "# image annotations (contain wnid class)\n",
    "DS_VAL_PATH_ANNOTS = DS_VAL_PATH + os.sep + 'val_annotations.txt'\n",
    "val_annots_df = pd.read_csv (DS_VAL_PATH_ANNOTS, sep='\\t', header=None, names=['image', 'wnid', 'box_x1', 'box_y1', 'box_x2', 'box_y2'])\n",
    "\n",
    "\n",
    "print ('Now there are {} values (image paths) in validation set.'\\\n",
    "       .format (len (val_data['val_imgs'])))\n",
    "print ()\n",
    "print ('Example:',\\\n",
    "       'key =', list (val_data.keys ())[0],\\\n",
    "       ', values (image paths) =',\\\n",
    "       val_data[list (val_data.keys())[0]][:2], '...',\\\n",
    "       val_data[list (val_data.keys())[0]][-2:])"
   ]
  },
  {
   "cell_type": "code",
   "execution_count": 12,
   "metadata": {},
   "outputs": [
    {
     "name": "stdout",
     "output_type": "stream",
     "text": [
      "Reading validation images, (10000 / 10000)\n",
      "\n",
      "Shape of val data tensor: (10000, 64, 64, 3)\n",
      "Shape of val data target vector: (10000,)\n"
     ]
    }
   ],
   "source": [
    "# read in all images from validation dataset\n",
    "val_data_tensor_list = []\n",
    "val_data_targets_list = []\n",
    "i = 1\n",
    "for img_path in val_data['val_imgs']:\n",
    "    # read images\n",
    "    print ('\\rReading validation images, ({:5} / {:5})'.format (i, len (val_data['val_imgs'])), end='', flush=True)\n",
    "    img_class_tensor = image_path_to_tensor ([img_path])\n",
    "    # add images to  tensor\n",
    "    val_data_tensor_list.append (img_class_tensor)\n",
    "    # write image class to target variable\n",
    "    img_name = os.path.basename (img_path)\n",
    "    img_wnid = val_annots_df[val_annots_df['image'] == img_name]['wnid'].values[0]\n",
    "    val_data_targets_list.append (img_wnid)\n",
    "    # blub\n",
    "    i += 1\n",
    "\n",
    "val_data_tensor = (np.vstack (val_data_tensor_list)).astype (dtype='f4', copy=False) / 255 # incl. normalization [0, 255] -> [0, 1]\n",
    "val_data_targets = np.hstack (val_data_targets_list)\n",
    "\n",
    "# clean up\n",
    "del val_data_tensor_list\n",
    "del val_data_targets_list\n",
    "del val_data\n",
    "\n",
    "print ('\\n')\n",
    "print ('Shape of val data tensor:', val_data_tensor.shape)\n",
    "print ('Shape of val data target vector:', val_data_targets.shape)"
   ]
  },
  {
   "cell_type": "code",
   "execution_count": 13,
   "metadata": {},
   "outputs": [],
   "source": [
    "# one-hot encode targets\n",
    "import pandas as pd\n",
    "\n",
    "train_data_targets_onehot = pd.get_dummies (train_data_targets)\n",
    "\n",
    "val_data_targets_onehot = pd.DataFrame (\n",
    "    data= np.zeros ((val_data_targets.shape[0], train_data_targets_onehot.shape[1]),  dtype=train_data_targets_onehot.values.dtype),\n",
    "    columns=train_data_targets_onehot.columns.values)\n",
    "\n",
    "for i in range (val_data_targets.shape[0]):\n",
    "    cur_wnid = val_data_targets[i]\n",
    "    val_data_targets_onehot.iloc[i][cur_wnid] = 1"
   ]
  },
  {
   "cell_type": "code",
   "execution_count": 14,
   "metadata": {},
   "outputs": [],
   "source": [
    "# make arrays of everything (i.e. get rid of index and column)\n",
    "train_targets = train_data_targets_onehot.values\n",
    "val_targets = val_data_targets_onehot.values\n",
    "\n",
    "# save the columns once to identify the wnid later\n",
    "targets_names = train_data_targets_onehot.columns.values"
   ]
  },
  {
   "cell_type": "code",
   "execution_count": 15,
   "metadata": {},
   "outputs": [
    {
     "name": "stdout",
     "output_type": "stream",
     "text": [
      "train data:\n",
      "   type : <class 'numpy.ndarray'>\n",
      "   dtype: float32\n",
      "   shape: (100000, 64, 64, 3)\n",
      "\n",
      "validation data:\n",
      "   type : <class 'numpy.ndarray'>\n",
      "   dtype: float32\n",
      "   shape: (10000, 64, 64, 3)\n",
      "\n",
      "target data:\n",
      "   type : <class 'numpy.ndarray'>\n",
      "   dtype: uint8\n",
      "   shape: (100000, 200)\n",
      "   names: ['n01443537' 'n01629819' 'n01641577'] ... ['n09332890' 'n09428293' 'n12267677']\n"
     ]
    }
   ],
   "source": [
    "print ('train data:')\n",
    "print ('  ', 'type :', type (train_data_tensor))\n",
    "print ('  ', 'dtype:', train_data_tensor.dtype)\n",
    "print ('  ', 'shape:', train_data_tensor.shape)\n",
    "\n",
    "print ()\n",
    "\n",
    "print ('validation data:')\n",
    "print ('  ', 'type :', type (val_data_tensor))\n",
    "print ('  ', 'dtype:', val_data_tensor.dtype)\n",
    "print ('  ', 'shape:', val_data_tensor.shape)\n",
    "\n",
    "print ()\n",
    "\n",
    "print ('target data:')\n",
    "print ('  ', 'type :', type (train_targets))\n",
    "print ('  ', 'dtype:', train_targets.dtype)\n",
    "print ('  ', 'shape:', train_targets.shape)\n",
    "print ('  ', 'names:', targets_names[:3], '...', targets_names[-3:])"
   ]
  },
  {
   "cell_type": "code",
   "execution_count": 16,
   "metadata": {},
   "outputs": [],
   "source": [
    "# shuffle data\n",
    "RND_STATE = 42\n",
    "from sklearn.model_selection import train_test_split\n",
    "\n",
    "train_data_shuffled, _, train_targets_shuffled, _ = train_test_split (train_data_tensor, train_targets,\n",
    "                                                                test_size=0.0, random_state=RND_STATE, shuffle=True)\n",
    "\n",
    "val_data_shuffled, _, val_targets_shuffled, _ = train_test_split (val_data_tensor, val_targets,\n",
    "                                                                  test_size=0.0, random_state=RND_STATE, shuffle=True)"
   ]
  },
  {
   "cell_type": "code",
   "execution_count": 17,
   "metadata": {},
   "outputs": [],
   "source": [
    "# clean up\n",
    "del train_data_tensor\n",
    "del train_targets\n",
    "del val_data_tensor\n",
    "del val_targets"
   ]
  },
  {
   "cell_type": "markdown",
   "metadata": {},
   "source": [
    "### Implementation"
   ]
  },
  {
   "cell_type": "code",
   "execution_count": 34,
   "metadata": {},
   "outputs": [],
   "source": [
    "from keras import layers, models, optimizers\n",
    "\n",
    "# basis: VGG16 model (https://gist.github.com/ksimonyan/211839e770f7b538e2d8#file-readme-md)\n",
    "\n",
    "# input layer\n",
    "input_shape = train_data_shuffled.shape[1:]\n",
    "inputs = layers.Input (shape=input_shape, name='input')\n",
    "\n",
    "# hidden layer\n",
    "net = layers.Dense (\n",
    "    units = 512,\n",
    "    activation = 'relu',\n",
    "    name = 'fc1'\n",
    ") (inputs)\n",
    "\n",
    "net = layers.Dense (\n",
    "    units = 256,\n",
    "    activation = 'relu',\n",
    "    name = 'fc2'\n",
    ") (net)\n",
    "\n",
    "net = layers.Dense (\n",
    "    units = 128,\n",
    "    activation = 'relu',\n",
    "    name = 'fc3'\n",
    ") (net)\n",
    "\n",
    "# output layer\n",
    "outputs = layers.Dense (\n",
    "    units=1,\n",
    "    activation='linear',\n",
    "    name='output'\n",
    ") (net)\n",
    "\n",
    "# create optimizer\n",
    "opt_sgd = optimizers.SGD (lr=0.001)\n",
    "\n",
    "# build and compile model\n",
    "mlp = models.Model (inputs=inputs, outputs=outputs)\n",
    "mlp.compile (optimizer=opt_sgd, loss='categorical_crossentropy', metrics=['accuracy'])"
   ]
  },
  {
   "cell_type": "code",
   "execution_count": 35,
   "metadata": {},
   "outputs": [
    {
     "name": "stdout",
     "output_type": "stream",
     "text": [
      "_________________________________________________________________\n",
      "Layer (type)                 Output Shape              Param #   \n",
      "=================================================================\n",
      "input (InputLayer)           (None, 64, 64, 3)         0         \n",
      "_________________________________________________________________\n",
      "conv1_1 (Conv2D)             (None, 64, 64, 64)        1792      \n",
      "_________________________________________________________________\n",
      "pool1 (MaxPooling2D)         (None, 32, 32, 64)        0         \n",
      "_________________________________________________________________\n",
      "conv2_1 (Conv2D)             (None, 32, 32, 128)       73856     \n",
      "_________________________________________________________________\n",
      "pool2 (MaxPooling2D)         (None, 16, 16, 128)       0         \n",
      "_________________________________________________________________\n",
      "conv3_1 (Conv2D)             (None, 16, 16, 256)       295168    \n",
      "_________________________________________________________________\n",
      "pool3 (MaxPooling2D)         (None, 8, 8, 256)         0         \n",
      "_________________________________________________________________\n",
      "conv4_1 (Conv2D)             (None, 8, 8, 512)         1180160   \n",
      "_________________________________________________________________\n",
      "pool4 (GlobalAveragePooling2 (None, 512)               0         \n",
      "_________________________________________________________________\n",
      "fc5 (Dense)                  (None, 512)               262656    \n",
      "_________________________________________________________________\n",
      "fc6 (Dense)                  (None, 512)               262656    \n",
      "_________________________________________________________________\n",
      "output (Dense)               (None, 200)               102600    \n",
      "=================================================================\n",
      "Total params: 2,178,888\n",
      "Trainable params: 2,178,888\n",
      "Non-trainable params: 0\n",
      "_________________________________________________________________\n"
     ]
    }
   ],
   "source": [
    "cnn_model.summary ()"
   ]
  },
  {
   "cell_type": "code",
   "execution_count": 36,
   "metadata": {},
   "outputs": [
    {
     "name": "stdout",
     "output_type": "stream",
     "text": [
      "Train on 100000 samples, validate on 10000 samples\n",
      "Epoch 1/20\n",
      "100000/100000 [==============================] - 1892s 19ms/step - loss: 5.2981 - acc: 0.0050 - val_loss: 5.2976 - val_acc: 0.0047\n",
      "\n",
      "Epoch 00001: val_loss improved from inf to 5.29759, saving model to project.ml.imloc.weights.best.hdf5\n",
      "Epoch 2/20\n",
      "100000/100000 [==============================] - 1886s 19ms/step - loss: 5.2974 - acc: 0.0050 - val_loss: 5.2968 - val_acc: 0.0041\n",
      "\n",
      "Epoch 00002: val_loss improved from 5.29759 to 5.29680, saving model to project.ml.imloc.weights.best.hdf5\n",
      "Epoch 3/20\n",
      "100000/100000 [==============================] - 1888s 19ms/step - loss: 5.2964 - acc: 0.0057 - val_loss: 5.2955 - val_acc: 0.0075\n",
      "\n",
      "Epoch 00003: val_loss improved from 5.29680 to 5.29551, saving model to project.ml.imloc.weights.best.hdf5\n",
      "Epoch 4/20\n",
      "100000/100000 [==============================] - 1889s 19ms/step - loss: 5.2945 - acc: 0.0092 - val_loss: 5.2926 - val_acc: 0.0100\n",
      "\n",
      "Epoch 00004: val_loss improved from 5.29551 to 5.29264, saving model to project.ml.imloc.weights.best.hdf5\n",
      "Epoch 5/20\n",
      "100000/100000 [==============================] - 1890s 19ms/step - loss: 5.2888 - acc: 0.0106 - val_loss: 5.2811 - val_acc: 0.0096\n",
      "\n",
      "Epoch 00005: val_loss improved from 5.29264 to 5.28107, saving model to project.ml.imloc.weights.best.hdf5\n",
      "Epoch 6/20\n",
      "100000/100000 [==============================] - 1890s 19ms/step - loss: 5.2444 - acc: 0.0108 - val_loss: 5.1696 - val_acc: 0.0132\n",
      "\n",
      "Epoch 00006: val_loss improved from 5.28107 to 5.16962, saving model to project.ml.imloc.weights.best.hdf5\n",
      "Epoch 7/20\n",
      "100000/100000 [==============================] - 1890s 19ms/step - loss: 5.1284 - acc: 0.0146 - val_loss: 5.0950 - val_acc: 0.0157\n",
      "\n",
      "Epoch 00007: val_loss improved from 5.16962 to 5.09497, saving model to project.ml.imloc.weights.best.hdf5\n",
      "Epoch 8/20\n",
      " 95900/100000 [===========================>..] - ETA: 1:15 - loss: 5.0971 - acc: 0.0160"
     ]
    },
    {
     "ename": "KeyboardInterrupt",
     "evalue": "",
     "output_type": "error",
     "traceback": [
      "\u001b[1;31m---------------------------------------------------------------------------\u001b[0m",
      "\u001b[1;31mKeyboardInterrupt\u001b[0m                         Traceback (most recent call last)",
      "\u001b[1;32m<ipython-input-36-600ede6fb6a8>\u001b[0m in \u001b[0;36m<module>\u001b[1;34m\u001b[0m\n\u001b[0;32m     11\u001b[0m history = cnn_model.fit (train_data_shuffled, train_targets_shuffled,\n\u001b[0;32m     12\u001b[0m           \u001b[0mvalidation_data\u001b[0m\u001b[1;33m=\u001b[0m\u001b[1;33m(\u001b[0m\u001b[0mval_data_shuffled\u001b[0m\u001b[1;33m,\u001b[0m \u001b[0mval_targets_shuffled\u001b[0m\u001b[1;33m)\u001b[0m\u001b[1;33m,\u001b[0m\u001b[1;33m\u001b[0m\u001b[0m\n\u001b[1;32m---> 13\u001b[1;33m           epochs=epochs, batch_size=100, callbacks=[checkpointer], verbose=1)\n\u001b[0m",
      "\u001b[1;32mc:\\_pyenvs\\ml\\lib\\site-packages\\keras\\engine\\training.py\u001b[0m in \u001b[0;36mfit\u001b[1;34m(self, x, y, batch_size, epochs, verbose, callbacks, validation_split, validation_data, shuffle, class_weight, sample_weight, initial_epoch, steps_per_epoch, validation_steps, **kwargs)\u001b[0m\n\u001b[0;32m   1037\u001b[0m                                         \u001b[0minitial_epoch\u001b[0m\u001b[1;33m=\u001b[0m\u001b[0minitial_epoch\u001b[0m\u001b[1;33m,\u001b[0m\u001b[1;33m\u001b[0m\u001b[0m\n\u001b[0;32m   1038\u001b[0m                                         \u001b[0msteps_per_epoch\u001b[0m\u001b[1;33m=\u001b[0m\u001b[0msteps_per_epoch\u001b[0m\u001b[1;33m,\u001b[0m\u001b[1;33m\u001b[0m\u001b[0m\n\u001b[1;32m-> 1039\u001b[1;33m                                         validation_steps=validation_steps)\n\u001b[0m\u001b[0;32m   1040\u001b[0m \u001b[1;33m\u001b[0m\u001b[0m\n\u001b[0;32m   1041\u001b[0m     def evaluate(self, x=None, y=None,\n",
      "\u001b[1;32mc:\\_pyenvs\\ml\\lib\\site-packages\\keras\\engine\\training_arrays.py\u001b[0m in \u001b[0;36mfit_loop\u001b[1;34m(model, f, ins, out_labels, batch_size, epochs, verbose, callbacks, val_f, val_ins, shuffle, callback_metrics, initial_epoch, steps_per_epoch, validation_steps)\u001b[0m\n\u001b[0;32m    197\u001b[0m                     \u001b[0mins_batch\u001b[0m\u001b[1;33m[\u001b[0m\u001b[0mi\u001b[0m\u001b[1;33m]\u001b[0m \u001b[1;33m=\u001b[0m \u001b[0mins_batch\u001b[0m\u001b[1;33m[\u001b[0m\u001b[0mi\u001b[0m\u001b[1;33m]\u001b[0m\u001b[1;33m.\u001b[0m\u001b[0mtoarray\u001b[0m\u001b[1;33m(\u001b[0m\u001b[1;33m)\u001b[0m\u001b[1;33m\u001b[0m\u001b[0m\n\u001b[0;32m    198\u001b[0m \u001b[1;33m\u001b[0m\u001b[0m\n\u001b[1;32m--> 199\u001b[1;33m                 \u001b[0mouts\u001b[0m \u001b[1;33m=\u001b[0m \u001b[0mf\u001b[0m\u001b[1;33m(\u001b[0m\u001b[0mins_batch\u001b[0m\u001b[1;33m)\u001b[0m\u001b[1;33m\u001b[0m\u001b[0m\n\u001b[0m\u001b[0;32m    200\u001b[0m                 \u001b[0mouts\u001b[0m \u001b[1;33m=\u001b[0m \u001b[0mto_list\u001b[0m\u001b[1;33m(\u001b[0m\u001b[0mouts\u001b[0m\u001b[1;33m)\u001b[0m\u001b[1;33m\u001b[0m\u001b[0m\n\u001b[0;32m    201\u001b[0m                 \u001b[1;32mfor\u001b[0m \u001b[0ml\u001b[0m\u001b[1;33m,\u001b[0m \u001b[0mo\u001b[0m \u001b[1;32min\u001b[0m \u001b[0mzip\u001b[0m\u001b[1;33m(\u001b[0m\u001b[0mout_labels\u001b[0m\u001b[1;33m,\u001b[0m \u001b[0mouts\u001b[0m\u001b[1;33m)\u001b[0m\u001b[1;33m:\u001b[0m\u001b[1;33m\u001b[0m\u001b[0m\n",
      "\u001b[1;32mc:\\_pyenvs\\ml\\lib\\site-packages\\keras\\backend\\tensorflow_backend.py\u001b[0m in \u001b[0;36m__call__\u001b[1;34m(self, inputs)\u001b[0m\n\u001b[0;32m   2713\u001b[0m                 \u001b[1;32mreturn\u001b[0m \u001b[0mself\u001b[0m\u001b[1;33m.\u001b[0m\u001b[0m_legacy_call\u001b[0m\u001b[1;33m(\u001b[0m\u001b[0minputs\u001b[0m\u001b[1;33m)\u001b[0m\u001b[1;33m\u001b[0m\u001b[0m\n\u001b[0;32m   2714\u001b[0m \u001b[1;33m\u001b[0m\u001b[0m\n\u001b[1;32m-> 2715\u001b[1;33m             \u001b[1;32mreturn\u001b[0m \u001b[0mself\u001b[0m\u001b[1;33m.\u001b[0m\u001b[0m_call\u001b[0m\u001b[1;33m(\u001b[0m\u001b[0minputs\u001b[0m\u001b[1;33m)\u001b[0m\u001b[1;33m\u001b[0m\u001b[0m\n\u001b[0m\u001b[0;32m   2716\u001b[0m         \u001b[1;32melse\u001b[0m\u001b[1;33m:\u001b[0m\u001b[1;33m\u001b[0m\u001b[0m\n\u001b[0;32m   2717\u001b[0m             \u001b[1;32mif\u001b[0m \u001b[0mpy_any\u001b[0m\u001b[1;33m(\u001b[0m\u001b[0mis_tensor\u001b[0m\u001b[1;33m(\u001b[0m\u001b[0mx\u001b[0m\u001b[1;33m)\u001b[0m \u001b[1;32mfor\u001b[0m \u001b[0mx\u001b[0m \u001b[1;32min\u001b[0m \u001b[0minputs\u001b[0m\u001b[1;33m)\u001b[0m\u001b[1;33m:\u001b[0m\u001b[1;33m\u001b[0m\u001b[0m\n",
      "\u001b[1;32mc:\\_pyenvs\\ml\\lib\\site-packages\\keras\\backend\\tensorflow_backend.py\u001b[0m in \u001b[0;36m_call\u001b[1;34m(self, inputs)\u001b[0m\n\u001b[0;32m   2673\u001b[0m             \u001b[0mfetched\u001b[0m \u001b[1;33m=\u001b[0m \u001b[0mself\u001b[0m\u001b[1;33m.\u001b[0m\u001b[0m_callable_fn\u001b[0m\u001b[1;33m(\u001b[0m\u001b[1;33m*\u001b[0m\u001b[0marray_vals\u001b[0m\u001b[1;33m,\u001b[0m \u001b[0mrun_metadata\u001b[0m\u001b[1;33m=\u001b[0m\u001b[0mself\u001b[0m\u001b[1;33m.\u001b[0m\u001b[0mrun_metadata\u001b[0m\u001b[1;33m)\u001b[0m\u001b[1;33m\u001b[0m\u001b[0m\n\u001b[0;32m   2674\u001b[0m         \u001b[1;32melse\u001b[0m\u001b[1;33m:\u001b[0m\u001b[1;33m\u001b[0m\u001b[0m\n\u001b[1;32m-> 2675\u001b[1;33m             \u001b[0mfetched\u001b[0m \u001b[1;33m=\u001b[0m \u001b[0mself\u001b[0m\u001b[1;33m.\u001b[0m\u001b[0m_callable_fn\u001b[0m\u001b[1;33m(\u001b[0m\u001b[1;33m*\u001b[0m\u001b[0marray_vals\u001b[0m\u001b[1;33m)\u001b[0m\u001b[1;33m\u001b[0m\u001b[0m\n\u001b[0m\u001b[0;32m   2676\u001b[0m         \u001b[1;32mreturn\u001b[0m \u001b[0mfetched\u001b[0m\u001b[1;33m[\u001b[0m\u001b[1;33m:\u001b[0m\u001b[0mlen\u001b[0m\u001b[1;33m(\u001b[0m\u001b[0mself\u001b[0m\u001b[1;33m.\u001b[0m\u001b[0moutputs\u001b[0m\u001b[1;33m)\u001b[0m\u001b[1;33m]\u001b[0m\u001b[1;33m\u001b[0m\u001b[0m\n\u001b[0;32m   2677\u001b[0m \u001b[1;33m\u001b[0m\u001b[0m\n",
      "\u001b[1;32mc:\\_pyenvs\\ml\\lib\\site-packages\\tensorflow\\python\\client\\session.py\u001b[0m in \u001b[0;36m__call__\u001b[1;34m(self, *args, **kwargs)\u001b[0m\n\u001b[0;32m   1397\u001b[0m           ret = tf_session.TF_SessionRunCallable(\n\u001b[0;32m   1398\u001b[0m               \u001b[0mself\u001b[0m\u001b[1;33m.\u001b[0m\u001b[0m_session\u001b[0m\u001b[1;33m.\u001b[0m\u001b[0m_session\u001b[0m\u001b[1;33m,\u001b[0m \u001b[0mself\u001b[0m\u001b[1;33m.\u001b[0m\u001b[0m_handle\u001b[0m\u001b[1;33m,\u001b[0m \u001b[0margs\u001b[0m\u001b[1;33m,\u001b[0m \u001b[0mstatus\u001b[0m\u001b[1;33m,\u001b[0m\u001b[1;33m\u001b[0m\u001b[0m\n\u001b[1;32m-> 1399\u001b[1;33m               run_metadata_ptr)\n\u001b[0m\u001b[0;32m   1400\u001b[0m         \u001b[1;32mif\u001b[0m \u001b[0mrun_metadata\u001b[0m\u001b[1;33m:\u001b[0m\u001b[1;33m\u001b[0m\u001b[0m\n\u001b[0;32m   1401\u001b[0m           \u001b[0mproto_data\u001b[0m \u001b[1;33m=\u001b[0m \u001b[0mtf_session\u001b[0m\u001b[1;33m.\u001b[0m\u001b[0mTF_GetBuffer\u001b[0m\u001b[1;33m(\u001b[0m\u001b[0mrun_metadata_ptr\u001b[0m\u001b[1;33m)\u001b[0m\u001b[1;33m\u001b[0m\u001b[0m\n",
      "\u001b[1;31mKeyboardInterrupt\u001b[0m: "
     ]
    }
   ],
   "source": [
    "from keras.callbacks import ModelCheckpoint\n",
    "\n",
    "epochs = 20\n",
    "\n",
    "### Do NOT modify the code below this line.\n",
    "checkpointer = ModelCheckpoint (\n",
    "                    filepath='project.ml.imloc.weights.best.hdf5', \n",
    "                    verbose=1,\n",
    "                    save_best_only=True)\n",
    "\n",
    "history = cnn_model.fit (train_data_shuffled, train_targets_shuffled,\n",
    "          validation_data=(val_data_shuffled, val_targets_shuffled),\n",
    "          epochs=epochs, batch_size=100, callbacks=[checkpointer], verbose=1)"
   ]
  },
  {
   "cell_type": "markdown",
   "metadata": {},
   "source": [
    "---"
   ]
  },
  {
   "cell_type": "markdown",
   "metadata": {},
   "source": [
    "## Metric\n",
    "define the metric to measure the quality of the learning algorithm"
   ]
  },
  {
   "cell_type": "markdown",
   "metadata": {},
   "source": [
    "## Data Preprocessing"
   ]
  },
  {
   "cell_type": "markdown",
   "metadata": {},
   "source": [
    "## Implementation\n",
    "split data, define and train a model"
   ]
  },
  {
   "cell_type": "markdown",
   "metadata": {},
   "source": [
    "---"
   ]
  },
  {
   "cell_type": "markdown",
   "metadata": {},
   "source": [
    "## Model Evaluation and Validation\n",
    "results and justification"
   ]
  },
  {
   "cell_type": "markdown",
   "metadata": {},
   "source": [
    "---"
   ]
  },
  {
   "cell_type": "markdown",
   "metadata": {},
   "source": [
    "## Helper stuff"
   ]
  },
  {
   "cell_type": "code",
   "execution_count": null,
   "metadata": {},
   "outputs": [],
   "source": [
    "# list dataset directory with number of folders and files\n",
    "import os"
   ]
  },
  {
   "cell_type": "code",
   "execution_count": null,
   "metadata": {},
   "outputs": [],
   "source": [
    "ds_path = os.path.join ('dataset', 'tiny-imagenet-200')\n",
    "\n",
    "print ('+--', ds_path)\n",
    "path_entries = os.listdir (ds_path)\n",
    "num_dirs = 0\n",
    "num_files = 0\n",
    "for entry in path_entries:\n",
    "    entry_path = os.path.join (ds_path, entry)\n",
    "    if (os.path.isdir (entry_path)):\n",
    "        print ('    |+--', entry)\n",
    "        num_dirs+=1\n",
    "    if (os.path.isfile (entry_path)):\n",
    "        print ('    |---', entry)\n",
    "        num_files+=1"
   ]
  },
  {
   "cell_type": "code",
   "execution_count": null,
   "metadata": {},
   "outputs": [],
   "source": [
    "print ('directories:', num_dirs, ', files:', num_files)"
   ]
  },
  {
   "cell_type": "code",
   "execution_count": null,
   "metadata": {},
   "outputs": [],
   "source": [
    "ds_test_path = os.path.join (ds_path, 'test')\n",
    "\n",
    "print ('+--', ds_test_path)\n",
    "num_dirs = 0\n",
    "num_files = 0\n",
    "path_entries = os.listdir (ds_test_path)\n",
    "for entry in path_entries:\n",
    "    entry_path = os.path.join (ds_test_path, entry)\n",
    "    if (os.path.isdir (entry_path)):\n",
    "        print ('    |+--', entry)\n",
    "        num_dirs+=1\n",
    "    if (os.path.isfile (entry_path)):\n",
    "        print ('    |---', entry)\n",
    "        num_files+=1"
   ]
  },
  {
   "cell_type": "code",
   "execution_count": null,
   "metadata": {},
   "outputs": [],
   "source": [
    "print ('directories:', num_dirs, ', files:', num_files)"
   ]
  },
  {
   "cell_type": "code",
   "execution_count": null,
   "metadata": {},
   "outputs": [],
   "source": [
    "ds_test_images_path = os.path.join (ds_test_path, 'images')\n",
    "\n",
    "print ('+--', ds_test_images_path)\n",
    "num_dirs = 0\n",
    "num_files = 0\n",
    "path_entries = os.listdir (ds_test_images_path)\n",
    "for entry in path_entries:\n",
    "    entry_path = os.path.join (ds_test_images_path, entry)\n",
    "    if (os.path.isdir (entry_path)):\n",
    "        print ('    |+--', entry)\n",
    "        num_dirs+=1\n",
    "    if (os.path.isfile (entry_path)):\n",
    "        print ('    |---', entry)\n",
    "        num_files+=1"
   ]
  },
  {
   "cell_type": "code",
   "execution_count": null,
   "metadata": {},
   "outputs": [],
   "source": [
    "print ('directories:', num_dirs, ', files:', num_files)"
   ]
  },
  {
   "cell_type": "code",
   "execution_count": null,
   "metadata": {},
   "outputs": [],
   "source": [
    "ds_val_path = os.path.join (ds_path, 'val')\n",
    "\n",
    "print ('+--', ds_val_path)\n",
    "num_dirs = 0\n",
    "num_files = 0\n",
    "path_entries = os.listdir (ds_val_path)\n",
    "for entry in path_entries:\n",
    "    entry_path = os.path.join (ds_val_path, entry)\n",
    "    if (os.path.isdir (entry_path)):\n",
    "        print ('    |+--', entry)\n",
    "        num_dirs+=1\n",
    "    if (os.path.isfile (entry_path)):\n",
    "        print ('    |---', entry)\n",
    "        num_files+=1"
   ]
  },
  {
   "cell_type": "code",
   "execution_count": null,
   "metadata": {},
   "outputs": [],
   "source": [
    "print ('directories:', num_dirs, ', files:', num_files)"
   ]
  },
  {
   "cell_type": "code",
   "execution_count": null,
   "metadata": {},
   "outputs": [],
   "source": [
    "ds_val_images_path = os.path.join (ds_val_path, 'images')\n",
    "\n",
    "print ('+--', ds_val_images_path)\n",
    "num_dirs = 0\n",
    "num_files = 0\n",
    "path_entries = os.listdir (ds_val_images_path)\n",
    "for entry in path_entries:\n",
    "    entry_path = os.path.join (ds_val_images_path, entry)\n",
    "    if (os.path.isdir (entry_path)):\n",
    "        print ('    |+--', entry)\n",
    "        num_dirs+=1\n",
    "    if (os.path.isfile (entry_path)):\n",
    "        print ('    |---', entry)\n",
    "        num_files+=1"
   ]
  },
  {
   "cell_type": "code",
   "execution_count": null,
   "metadata": {},
   "outputs": [],
   "source": [
    "print ('directories:', num_dirs, ', files:', num_files)"
   ]
  },
  {
   "cell_type": "code",
   "execution_count": null,
   "metadata": {},
   "outputs": [],
   "source": [
    "ds_train_path = os.path.join (ds_path, 'train')\n",
    "\n",
    "print ('+--', ds_train_path)\n",
    "num_dirs = 0\n",
    "num_files = 0\n",
    "path_entries = os.listdir (ds_train_path)\n",
    "for entry in path_entries:\n",
    "    entry_path = os.path.join (ds_train_path, entry)\n",
    "    if (os.path.isdir (entry_path)):\n",
    "        print ('    |+--', entry)\n",
    "        num_dirs+=1\n",
    "    if (os.path.isfile (entry_path)):\n",
    "        print ('    |---', entry)\n",
    "        num_files+=1"
   ]
  },
  {
   "cell_type": "code",
   "execution_count": null,
   "metadata": {},
   "outputs": [],
   "source": [
    "print ('directories:', num_dirs, ', files:', num_files)"
   ]
  },
  {
   "cell_type": "code",
   "execution_count": null,
   "metadata": {},
   "outputs": [],
   "source": [
    "ds_train_wnid_path = os.path.join (ds_train_path, 'n01443537')\n",
    "\n",
    "print ('+--', ds_train_wnid_path)\n",
    "num_dirs = 0\n",
    "num_files = 0\n",
    "path_entries = os.listdir (ds_train_wnid_path)\n",
    "for entry in path_entries:\n",
    "    entry_path = os.path.join (ds_train_wnid_path, entry)\n",
    "    if (os.path.isdir (entry_path)):\n",
    "        print ('    |+--', entry)\n",
    "        num_dirs+=1\n",
    "    if (os.path.isfile (entry_path)):\n",
    "        print ('    |---', entry)\n",
    "        num_files+=1"
   ]
  },
  {
   "cell_type": "code",
   "execution_count": null,
   "metadata": {},
   "outputs": [],
   "source": [
    "print ('directories:', num_dirs, ', files:', num_files)"
   ]
  },
  {
   "cell_type": "code",
   "execution_count": null,
   "metadata": {},
   "outputs": [],
   "source": [
    "ds_train_wnid_images_path = os.path.join (ds_train_wnid_path, 'images')\n",
    "\n",
    "print ('+--', ds_train_wnid_images_path)\n",
    "num_dirs = 0\n",
    "num_files = 0\n",
    "path_entries = os.listdir (ds_train_wnid_images_path)\n",
    "for entry in path_entries:\n",
    "    entry_path = os.path.join (ds_train_wnid_images_path, entry)\n",
    "    if (os.path.isdir (entry_path)):\n",
    "        print ('    |+--', entry)\n",
    "        num_dirs+=1\n",
    "    if (os.path.isfile (entry_path)):\n",
    "        print ('    |---', entry)\n",
    "        num_files+=1\n",
    "print ('directories:', num_dirs, ', files:', num_files)"
   ]
  },
  {
   "cell_type": "code",
   "execution_count": null,
   "metadata": {},
   "outputs": [],
   "source": [
    "print ('directories:', num_dirs, ', files:', num_files)"
   ]
  }
 ],
 "metadata": {
  "kernelspec": {
   "display_name": "Python 3",
   "language": "python",
   "name": "python3"
  },
  "language_info": {
   "codemirror_mode": {
    "name": "ipython",
    "version": 3
   },
   "file_extension": ".py",
   "mimetype": "text/x-python",
   "name": "python",
   "nbconvert_exporter": "python",
   "pygments_lexer": "ipython3",
   "version": "3.6.4"
  }
 },
 "nbformat": 4,
 "nbformat_minor": 2
}
